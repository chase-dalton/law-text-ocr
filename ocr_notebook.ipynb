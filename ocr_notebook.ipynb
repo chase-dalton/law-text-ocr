{
 "cells": [
  {
   "cell_type": "code",
   "execution_count": 1,
   "metadata": {},
   "outputs": [],
   "source": [
    "# Import dependencies\n",
    "import pytesseract\n",
    "import cv2\n",
    "from PIL import Image\n",
    "from langdetect import detect, DetectorFactory, detect_langs\n",
    "from spellchecker import SpellChecker\n",
    "import numpy as np\n",
    "import re\n",
    "import pandas as pd"
   ]
  },
  {
   "cell_type": "code",
   "execution_count": 2,
   "metadata": {},
   "outputs": [],
   "source": [
    "# Read the image\n",
    "image_path = \"law_text.png\"\n",
    "image = cv2.imread(image_path)    "
   ]
  },
  {
   "cell_type": "code",
   "execution_count": 3,
   "metadata": {},
   "outputs": [
    {
     "data": {
      "text/plain": [
       "True"
      ]
     },
     "execution_count": 3,
     "metadata": {},
     "output_type": "execute_result"
    }
   ],
   "source": [
    "# Preprocess image for better OCR and save it\n",
    "gray = cv2.cvtColor(image, cv2.COLOR_BGR2GRAY)\n",
    "cv2.imwrite(\"law_text_processed.png\", gray)  "
   ]
  },
  {
   "cell_type": "code",
   "execution_count": 4,
   "metadata": {},
   "outputs": [],
   "source": [
    "# Extract text from processed image with Latin bias\n",
    "custom_config = \"--psm 3 -l eng+lat\"\n",
    "text = pytesseract.image_to_data(gray, config=custom_config,output_type=pytesseract.Output.DATAFRAME)\n",
    "\n",
    "text_cleaned = text[text[\"text\"].notnull() & (text[\"text\"].str.strip() != \"\")]\n",
    "text_cleaned = text_cleaned[['line_num', 'word_num', 'conf', 'text']].dropna().query(\"text != ''\")"
   ]
  },
  {
   "cell_type": "code",
   "execution_count": 5,
   "metadata": {},
   "outputs": [
    {
     "name": "stdout",
     "output_type": "stream",
     "text": [
      "     line_num  word_num       conf      text\n",
      "4           1         1  89.937950       the\n",
      "5           1         2  92.879509  purpofe,\n",
      "6           1         3  96.927704        as\n",
      "7           1         4  94.146339      alfo\n",
      "8           1         5  65.091309       Wb.\n",
      "..        ...       ...        ...       ...\n",
      "324        45         2  82.389305   feemeth\n",
      "325        45         3  60.388592      that\n",
      "326        45         4  62.285683       he:\n",
      "327        45         5  84.209106      that\n",
      "328        45         6  81.661011    fteal-\n",
      "\n",
      "[281 rows x 4 columns]\n"
     ]
    }
   ],
   "source": [
    "print(text_cleaned)\n",
    "    "
   ]
  },
  {
   "cell_type": "code",
   "execution_count": 6,
   "metadata": {},
   "outputs": [
    {
     "name": "stdout",
     "output_type": "stream",
     "text": [
      "Detected Language: en\n",
      "Detected Language Probabilities: [en:0.9999971679660928]\n"
     ]
    }
   ],
   "source": [
    "# Detect language\n",
    "DetectorFactory.seed = 0\n",
    "text_string = pytesseract.image_to_string(gray, config=custom_config) \n",
    "detected_language = detect(text_string)\n",
    "print(\"Detected Language:\", detected_language)\n",
    "print(\"Detected Language Probabilities:\", detect_langs(text_string))"
   ]
  },
  {
   "cell_type": "code",
   "execution_count": 14,
   "metadata": {},
   "outputs": [
    {
     "name": "stdout",
     "output_type": "stream",
     "text": [
      "     line_num  word_num       conf      text corrected_text\n",
      "4           1         1  89.937950       the            the\n",
      "5           1         2  92.879509  purpofe,        purpose\n",
      "6           1         3  96.927704        as             as\n",
      "7           1         4  94.146339      alfo           also\n",
      "8           1         5  65.091309       Wb.             wb\n",
      "..        ...       ...        ...       ...            ...\n",
      "324        45         2  82.389305   feemeth        feemeth\n",
      "325        45         3  60.388592      that           that\n",
      "326        45         4  62.285683       he:             he\n",
      "327        45         5  84.209106      that           that\n",
      "328        45         6  81.661011    fteal-          steal\n",
      "\n",
      "[281 rows x 5 columns]\n"
     ]
    }
   ],
   "source": [
    "# Add spell checking to the text and add to DataFrame\n",
    "spell = SpellChecker()\n",
    "\n",
    "# Correcting Function\n",
    "def corrected_word(word):\n",
    "    corrected = spell.correction(word)\n",
    "    return corrected if corrected else word\n",
    "\n",
    "text_cleaned['corrected_text'] = text_cleaned['text'].apply(corrected_word)\n",
    "\n",
    "print(text_cleaned)"
   ]
  },
  {
   "cell_type": "code",
   "execution_count": 15,
   "metadata": {},
   "outputs": [],
   "source": [
    "#Save results to an excel file\n",
    "excel_filename = \"law_text.xlsx\"\n",
    "text_cleaned.to_excel(excel_filename, index=False, engine=\"openpyxl\")"
   ]
  },
  {
   "cell_type": "code",
   "execution_count": null,
   "metadata": {},
   "outputs": [],
   "source": []
  }
 ],
 "metadata": {
  "kernelspec": {
   "display_name": "venv",
   "language": "python",
   "name": "python3"
  },
  "language_info": {
   "codemirror_mode": {
    "name": "ipython",
    "version": 3
   },
   "file_extension": ".py",
   "mimetype": "text/x-python",
   "name": "python",
   "nbconvert_exporter": "python",
   "pygments_lexer": "ipython3",
   "version": "3.12.3"
  }
 },
 "nbformat": 4,
 "nbformat_minor": 2
}
